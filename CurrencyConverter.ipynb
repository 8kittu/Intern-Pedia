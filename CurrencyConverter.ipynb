{
 "cells": [
  {
   "cell_type": "code",
   "execution_count": 1,
   "id": "7017bcb1-d905-4f98-bb1d-f844eb0bbccd",
   "metadata": {},
   "outputs": [
    {
     "name": "stdin",
     "output_type": "stream",
     "text": [
      "Enter amount to convert:  100\n",
      "Enter base currency (e.g., USD):  USD\n",
      "Enter target currency (e.g., EUR):  EUR\n"
     ]
    },
    {
     "name": "stdout",
     "output_type": "stream",
     "text": [
      "100.0 USD is equal to 89.85 EUR\n"
     ]
    }
   ],
   "source": [
    "import requests\n",
    "from bs4 import BeautifulSoup\n",
    "\n",
    "def get_exchange_rate(base_currency, target_currency):\n",
    "  \"\"\"Fetches the latest exchange rate from a reliable source.\n",
    "\n",
    "  Args:\n",
    "    base_currency: The currency to convert from (e.g., \"USD\").\n",
    "    target_currency: The currency to convert to (e.g., \"EUR\").\n",
    "\n",
    "  Returns:\n",
    "    The exchange rate as a float, or None if the rate could not be retrieved.\n",
    "  \"\"\"\n",
    "  url = f\"https://www.x-rates.com/calculator/?from={base_currency}&to={target_currency}&amount=1\"\n",
    "  response = requests.get(url)\n",
    "\n",
    "  if response.status_code == 200:\n",
    "    soup = BeautifulSoup(response.content, 'html.parser')\n",
    "    rate_element = soup.find('span', class_='ccOutputRslt')\n",
    "    if rate_element:\n",
    "      rate_text = rate_element.text.strip().split()[0]\n",
    "      return float(rate_text)\n",
    "  return None\n",
    "\n",
    "def convert_currency(amount, base_currency, target_currency):\n",
    "  \"\"\"Converts an amount from one currency to another.\n",
    "\n",
    "  Args:\n",
    "    amount: The amount to convert.\n",
    "    base_currency: The currency to convert from (e.g., \"USD\").\n",
    "    target_currency: The currency to convert to (e.g., \"EUR\").\n",
    "\n",
    "  Returns:\n",
    "    The converted amount as a float, or None if the conversion failed.\n",
    "  \"\"\"\n",
    "  exchange_rate = get_exchange_rate(base_currency, target_currency)\n",
    "  if exchange_rate:\n",
    "    return amount * exchange_rate\n",
    "  return None\n",
    "\n",
    "# Get input from the user\n",
    "amount = float(input(\"Enter amount to convert: \"))\n",
    "base_currency = input(\"Enter base currency (e.g., USD): \").upper()\n",
    "target_currency = input(\"Enter target currency (e.g., EUR): \").upper()\n",
    "\n",
    "# Perform the currency conversion\n",
    "converted_amount = convert_currency(amount, base_currency, target_currency)\n",
    "\n",
    "# Display the result\n",
    "if converted_amount:\n",
    "  print(f\"{amount} {base_currency} is equal to {converted_amount:.2f} {target_currency}\")\n",
    "else:\n",
    "  print(\"Unable to retrieve exchange rate information.\")"
   ]
  },
  {
   "cell_type": "code",
   "execution_count": null,
   "id": "a490bea6-c076-4da8-9287-90c21c924e2b",
   "metadata": {},
   "outputs": [],
   "source": []
  }
 ],
 "metadata": {
  "kernelspec": {
   "display_name": "Python 3 (ipykernel)",
   "language": "python",
   "name": "python3"
  },
  "language_info": {
   "codemirror_mode": {
    "name": "ipython",
    "version": 3
   },
   "file_extension": ".py",
   "mimetype": "text/x-python",
   "name": "python",
   "nbconvert_exporter": "python",
   "pygments_lexer": "ipython3",
   "version": "3.11.7"
  }
 },
 "nbformat": 4,
 "nbformat_minor": 5
}
