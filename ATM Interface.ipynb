{
 "cells": [
  {
   "cell_type": "code",
   "execution_count": 2,
   "id": "859fcdbc-3cb7-4e8f-9639-3a37068d0757",
   "metadata": {},
   "outputs": [
    {
     "name": "stdout",
     "output_type": "stream",
     "text": [
      "\n",
      "ATM Interface\n",
      "1. Access Account\n",
      "2. Quit\n"
     ]
    },
    {
     "name": "stdin",
     "output_type": "stream",
     "text": [
      "Choose an option:  1\n",
      "Enter your user ID:  1234\n",
      "Enter your pin:  123\n"
     ]
    },
    {
     "name": "stdout",
     "output_type": "stream",
     "text": [
      "Invalid user ID or pin.\n",
      "\n",
      "ATM Interface\n",
      "1. Access Account\n",
      "2. Quit\n"
     ]
    },
    {
     "name": "stdin",
     "output_type": "stream",
     "text": [
      "Choose an option:  1\n",
      "Enter your user ID:  1234\n",
      "Enter your pin:  5\n"
     ]
    },
    {
     "name": "stdout",
     "output_type": "stream",
     "text": [
      "Invalid user ID or pin.\n",
      "\n",
      "ATM Interface\n",
      "1. Access Account\n",
      "2. Quit\n"
     ]
    },
    {
     "name": "stdin",
     "output_type": "stream",
     "text": [
      "Choose an option:  1234\n"
     ]
    },
    {
     "name": "stdout",
     "output_type": "stream",
     "text": [
      "Invalid choice. Please try again.\n",
      "\n",
      "ATM Interface\n",
      "1. Access Account\n",
      "2. Quit\n"
     ]
    },
    {
     "name": "stdin",
     "output_type": "stream",
     "text": [
      "Choose an option:  1\n",
      "Enter your user ID:  1234\n",
      "Enter your pin:  5\n"
     ]
    },
    {
     "name": "stdout",
     "output_type": "stream",
     "text": [
      "Invalid user ID or pin.\n",
      "\n",
      "ATM Interface\n",
      "1. Access Account\n",
      "2. Quit\n"
     ]
    },
    {
     "name": "stdin",
     "output_type": "stream",
     "text": [
      "Choose an option:  2\n"
     ]
    }
   ],
   "source": [
    "class Account:\n",
    "    def __init__(self, user_id, pin, balance=0):\n",
    "        self.user_id = user_id\n",
    "        self.pin = pin\n",
    "        self.balance = balance\n",
    "        self.transactions = []\n",
    "\n",
    "    def check_pin(self, pin):\n",
    "        return self.pin == pin\n",
    "\n",
    "    def deposit(self, amount):\n",
    "        self.balance += amount\n",
    "        self.transactions.append(('Deposit', amount))\n",
    "        return self.balance\n",
    "\n",
    "    def withdraw(self, amount):\n",
    "        if amount > self.balance:\n",
    "            return 'Insufficient balance'\n",
    "        else:\n",
    "            self.balance -= amount\n",
    "            self.transactions.append(('Withdraw', amount))\n",
    "            return self.balance\n",
    "\n",
    "    def get_transaction_history(self):\n",
    "        return self.transactions if self.transactions else 'No transactions available'\n",
    "\n",
    "    def transfer(self, target_account, amount):\n",
    "        if amount > self.balance:\n",
    "            return 'Insufficient balance'\n",
    "        else:\n",
    "            self.withdraw(amount)\n",
    "            target_account.deposit(amount)\n",
    "            self.transactions.append(('Transfer', amount))\n",
    "            return self.balance\n",
    "\n",
    "\n",
    "class ATM:\n",
    "    def __init__(self):\n",
    "        self.accounts = {}\n",
    "\n",
    "    def create_account(self, user_id, pin, balance=0):\n",
    "        self.accounts[user_id] = Account(user_id, pin, balance)\n",
    "\n",
    "    def access_account(self):\n",
    "        user_id = input(\"Enter your user ID: \")\n",
    "        pin = input(\"Enter your pin: \")\n",
    "\n",
    "        if user_id in self.accounts and self.accounts[user_id].check_pin(pin):\n",
    "            return self.accounts[user_id]\n",
    "        else:\n",
    "            return None\n",
    "\n",
    "    def run(self):\n",
    "        while True:\n",
    "            print(\"\\nATM Interface\")\n",
    "            print(\"1. Access Account\")\n",
    "            print(\"2. Quit\")\n",
    "            choice = input(\"Choose an option: \")\n",
    "            if choice == '1':\n",
    "                account = self.access_account()\n",
    "                if account:\n",
    "                    while True:\n",
    "                        print(\"\\n1. Transaction History\")\n",
    "                        print(\"2. Withdraw\")\n",
    "                        print(\"3. Deposit\")\n",
    "                        print(\"4. Transfer\")\n",
    "                        print(\"5. Quit\")\n",
    "                        operation = input(\"Choose an operation: \")\n",
    "                        if operation == '1':\n",
    "                            print(account.get_transaction_history())\n",
    "                        elif operation == '2':\n",
    "                            amount = float(input(\"Enter amount to withdraw: \"))\n",
    "                            print(account.withdraw(amount))\n",
    "                        elif operation == '3':\n",
    "                            amount = float(input(\"Enter amount to deposit: \"))\n",
    "                            print(account.deposit(amount))\n",
    "                        elif operation == '4':\n",
    "                            target_id = input(\"Enter target user ID: \")\n",
    "                            amount = float(input(\"Enter amount to transfer: \"))\n",
    "                            if target_id in self.accounts:\n",
    "                                print(account.transfer(self.accounts[target_id], amount))\n",
    "                            else:\n",
    "                                print(\"Target account not found.\")\n",
    "                        elif operation == '5':\n",
    "                            break\n",
    "                        else:\n",
    "                            print(\"Invalid operation.\")\n",
    "                else:\n",
    "                    print(\"Invalid user ID or pin.\")\n",
    "            elif choice == '2':\n",
    "                break\n",
    "            else:\n",
    "                print(\"Invalid choice. Please try again.\")\n",
    "\n",
    "# Create an ATM instance\n",
    "atm = ATM()\n",
    "# Create some accounts for testing (normally this would be handled externally)\n",
    "atm.create_account('user1', '1234', 1000)\n",
    "atm.create_account('user2', '5678', 500)\n",
    "\n",
    "# Run the ATM interface\n",
    "atm.run()\n",
    "\n",
    "# The atm.run() line is commented out to prevent the code from actually running in this environment, as it requires user input.\n",
    "# To use the code, uncomment the line and run it in a local Python environment where you can interact with it via the console."
   ]
  },
  {
   "cell_type": "code",
   "execution_count": null,
   "id": "f96b299e-ddbb-4305-900a-741db1463a7e",
   "metadata": {},
   "outputs": [],
   "source": []
  }
 ],
 "metadata": {
  "kernelspec": {
   "display_name": "Python 3 (ipykernel)",
   "language": "python",
   "name": "python3"
  },
  "language_info": {
   "codemirror_mode": {
    "name": "ipython",
    "version": 3
   },
   "file_extension": ".py",
   "mimetype": "text/x-python",
   "name": "python",
   "nbconvert_exporter": "python",
   "pygments_lexer": "ipython3",
   "version": "3.11.7"
  }
 },
 "nbformat": 4,
 "nbformat_minor": 5
}
