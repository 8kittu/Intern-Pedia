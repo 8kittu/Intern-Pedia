{
 "cells": [
  {
   "cell_type": "code",
   "execution_count": 1,
   "id": "f0074eb8-cf74-4968-8db8-8f04e58d20e0",
   "metadata": {},
   "outputs": [
    {
     "name": "stdin",
     "output_type": "stream",
     "text": [
      "Enter the number of subjects:  5\n",
      "Enter marks for subject 1 (out of 100):  99\n",
      "Enter marks for subject 2 (out of 100):  89\n",
      "Enter marks for subject 3 (out of 100):  75\n",
      "Enter marks for subject 4 (out of 100):  95\n",
      "Enter marks for subject 5 (out of 100):  92\n"
     ]
    },
    {
     "name": "stdout",
     "output_type": "stream",
     "text": [
      "Total Marks: 450\n",
      "Average Percentage: 90.00%\n",
      "Grade: A+\n"
     ]
    }
   ],
   "source": [
    "def calculate_total_marks(marks):\n",
    "  \"\"\"Calculates the total marks from a list of marks.\n",
    "\n",
    "  Args:\n",
    "    marks: A list of integers representing marks in each subject.\n",
    "\n",
    "  Returns:\n",
    "    The total marks.\n",
    "  \"\"\"\n",
    "  total_marks = 0\n",
    "  for mark in marks:\n",
    "    total_marks += mark\n",
    "  return total_marks\n",
    "\n",
    "\n",
    "def calculate_average_percentage(total_marks, num_subjects):\n",
    "  \"\"\"Calculates the average percentage from total marks and number of subjects.\n",
    "\n",
    "  Args:\n",
    "    total_marks: The total marks obtained.\n",
    "    num_subjects: The number of subjects.\n",
    "\n",
    "  Returns:\n",
    "    The average percentage.\n",
    "  \"\"\"\n",
    "  average_percentage = (total_marks / (num_subjects * 100)) * 100\n",
    "  return average_percentage\n",
    "\n",
    "\n",
    "def determine_grade(average_percentage):\n",
    "  \"\"\"Determines the grade based on the average percentage.\n",
    "\n",
    "  Args:\n",
    "    average_percentage: The average percentage achieved.\n",
    "\n",
    "  Returns:\n",
    "    The corresponding grade.\n",
    "  \"\"\"\n",
    "  if average_percentage >= 90:\n",
    "    return \"A+\"\n",
    "  elif average_percentage >= 80:\n",
    "    return \"A\"\n",
    "  elif average_percentage >= 70:\n",
    "    return \"B+\"\n",
    "  elif average_percentage >= 60:\n",
    "    return \"B\"\n",
    "  elif average_percentage >= 50:\n",
    "    return \"C+\"\n",
    "  elif average_percentage >= 40:\n",
    "    return \"C\"\n",
    "  else:\n",
    "    return \"F\"\n",
    "\n",
    "\n",
    "def display_results(total_marks, average_percentage, grade):\n",
    "  \"\"\"Displays the calculated results to the user.\n",
    "\n",
    "  Args:\n",
    "    total_marks: The total marks obtained.\n",
    "    average_percentage: The average percentage achieved.\n",
    "    grade: The corresponding grade.\n",
    "  \"\"\"\n",
    "  print(f\"Total Marks: {total_marks}\")\n",
    "  print(f\"Average Percentage: {average_percentage:.2f}%\")\n",
    "  print(f\"Grade: {grade}\")\n",
    "\n",
    "\n",
    "def main():\n",
    "  \"\"\"Main function to run the student grade calculator.\"\"\"\n",
    "  num_subjects = int(input(\"Enter the number of subjects: \"))\n",
    "  marks = []\n",
    "  for i in range(num_subjects):\n",
    "    mark = int(input(f\"Enter marks for subject {i+1} (out of 100): \"))\n",
    "    marks.append(mark)\n",
    "\n",
    "  total_marks = calculate_total_marks(marks)\n",
    "  average_percentage = calculate_average_percentage(total_marks, num_subjects)\n",
    "  grade = determine_grade(average_percentage)\n",
    "\n",
    "  display_results(total_marks, average_percentage, grade)\n",
    "\n",
    "\n",
    "if __name__ == \"__main__\":\n",
    "  main()"
   ]
  },
  {
   "cell_type": "code",
   "execution_count": null,
   "id": "bc79e82e-904b-46ce-ba68-53e7f22305b4",
   "metadata": {},
   "outputs": [],
   "source": []
  }
 ],
 "metadata": {
  "kernelspec": {
   "display_name": "Python 3 (ipykernel)",
   "language": "python",
   "name": "python3"
  },
  "language_info": {
   "codemirror_mode": {
    "name": "ipython",
    "version": 3
   },
   "file_extension": ".py",
   "mimetype": "text/x-python",
   "name": "python",
   "nbconvert_exporter": "python",
   "pygments_lexer": "ipython3",
   "version": "3.11.7"
  }
 },
 "nbformat": 4,
 "nbformat_minor": 5
}
